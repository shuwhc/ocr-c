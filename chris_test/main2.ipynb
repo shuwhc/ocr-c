{
 "cells": [
  {
   "cell_type": "code",
   "execution_count": 1,
   "metadata": {},
   "outputs": [],
   "source": [
    "from PIL import Image\n",
    "import pytesseract\n",
    "from pytesseract import Output\n",
    "import cv2\n",
    "import numpy as np\n",
    "from matplotlib import pyplot as plt\n",
    "import re"
   ]
  },
  {
   "cell_type": "code",
   "execution_count": 2,
   "metadata": {},
   "outputs": [],
   "source": [
    "pytesseract.pytesseract.tesseract_cmd = \"C:\\Program Files\\Tesseract-OCR\\\\tesseract.exe\""
   ]
  },
  {
   "cell_type": "code",
   "execution_count": 3,
   "metadata": {},
   "outputs": [],
   "source": [
    "#image = cv2.imread(\"D:/School/School_sem3/IA/IA_project/test_3.jpg\") #, cv2.IMREAD_GRAYSCALE\n",
    "image = cv2.imread(\"C:/Users/a1/Desktop/Today/test_3.jpg\")\n",
    "#img_RGB = cv2.cvtColor(image, cv2.COLOR_BAYER_BG2BGR)\n",
    "new = cv2.resize(image ,(600,800),interpolation= cv2.INTER_CUBIC)\n",
    "gray = cv2.cvtColor(new, cv2.COLOR_BGR2GRAY)\n",
    "\n",
    "#Simple_Thresholding = cv2.threshold(image, 110, 255, cv2.THRESH_BINARY_INV)[1]"
   ]
  },
  {
   "cell_type": "code",
   "execution_count": 4,
   "metadata": {},
   "outputs": [
    {
     "data": {
      "text/plain": [
       "-1"
      ]
     },
     "execution_count": 4,
     "metadata": {},
     "output_type": "execute_result"
    }
   ],
   "source": [
    "#Method1\n",
    "results = pytesseract.image_to_data(gray)\n",
    "for id, line in enumerate(results.splitlines()):\n",
    "    if id != 0:\n",
    "        line = line.split()\n",
    "        if len(line) == 12:\n",
    "            x, y, w, h = int(line[6]), int(line[7]), int(line[8]), int(line[9])\n",
    "            cv2.rectangle(new, (x,y), (w+x,h+y), (0,255,0), 2 )\n",
    "            cv2.putText(new, line[11],(x, y), cv2.FONT_HERSHEY_COMPLEX_SMALL, 1, (273, 100, 100), 1)\n",
    "        \n",
    "cv2.imshow('img', new)\n",
    "cv2.waitKey(0)"
   ]
  },
  {
   "cell_type": "code",
   "execution_count": 17,
   "metadata": {
    "scrolled": true
   },
   "outputs": [
    {
     "name": "stdout",
     "output_type": "stream",
     "text": [
      "dict_keys(['level', 'page_num', 'block_num', 'par_num', 'line_num', 'word_num', 'left', 'top', 'width', 'height', 'conf', 'text'])\n"
     ]
    }
   ],
   "source": [
    "img1 = cv2.imread(\"C:/Users/a1/Desktop/Today/test_3.jpg\")\n",
    "#img1 = cv2.imread('D:/School/School_sem3/IA/IA_project/test_3.jpg')\n",
    "new2 = cv2.resize(img1 ,(600,800),interpolation= cv2.INTER_CUBIC)\n",
    "d = pytesseract.image_to_data(new2, output_type=Output.DICT, lang=\"eng+chi_tra\")\n",
    "#d = pytesseract.image_to_boxes(new2)\n",
    "keys = list(d.keys())\n",
    "date_pattern = \"[0-9]\"\n",
    "date_pattern2 = '[a-zA-Z0-9]'\n",
    "print(d.keys())"
   ]
  },
  {
   "cell_type": "code",
   "execution_count": 18,
   "metadata": {},
   "outputs": [
    {
     "data": {
      "text/plain": [
       "-1"
      ]
     },
     "execution_count": 18,
     "metadata": {},
     "output_type": "execute_result"
    }
   ],
   "source": [
    "#Method3_text\n",
    "n_boxes = len(d['text'])\n",
    "for i in range(n_boxes):\n",
    "    if float(d['conf'][i]) > 60:\n",
    "        if re.match(date_pattern2, d['text'][i]):\n",
    "            (x, y, w, h) = (d['left'][i], d['top'][i], d['width'][i], d['height'][i])\n",
    "            cv2.rectangle(new2, (x, y), (x + w, y + h), (0, 255, 0), 2)\n",
    "\n",
    "cv2.imshow('output', new2)\n",
    "cv2.waitKey(0)"
   ]
  },
  {
   "cell_type": "code",
   "execution_count": null,
   "metadata": {
    "scrolled": true
   },
   "outputs": [],
   "source": [
    "# for line in d.splitlines():\n",
    "#     line = line.split(\" \")\n",
    "#     print(line)"
   ]
  },
  {
   "cell_type": "code",
   "execution_count": null,
   "metadata": {},
   "outputs": [],
   "source": [
    "#Method2\n",
    "n_boxes = len(d['text'])\n",
    "for i in range(n_boxes):\n",
    "    if float(d['conf'][i]) > 60:\n",
    "        (x, y, w, h) = (d['left'][i], d['top'][i], d['width'][i], d['height'][i])\n",
    "        img = cv2.rectangle(new2, (x, y), (x + w, y + h), (0, 255, 0), 2)\n",
    "\n",
    "cv2.imshow('img', new2)\n",
    "cv2.waitKey(0)"
   ]
  }
 ],
 "metadata": {
  "kernelspec": {
   "display_name": "Python 3",
   "language": "python",
   "name": "python3"
  },
  "language_info": {
   "codemirror_mode": {
    "name": "ipython",
    "version": 3
   },
   "file_extension": ".py",
   "mimetype": "text/x-python",
   "name": "python",
   "nbconvert_exporter": "python",
   "pygments_lexer": "ipython3",
   "version": "3.7.3"
  }
 },
 "nbformat": 4,
 "nbformat_minor": 2
}
