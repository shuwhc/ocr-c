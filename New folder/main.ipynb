{
 "cells": [
  {
   "cell_type": "markdown",
   "source": [
    "# 0. Setup Paths"
   ],
   "metadata": {
    "id": "QUANWN3rpfC9"
   }
  },
  {
   "cell_type": "code",
   "execution_count": 11,
   "source": [
    "CUSTOM_MODEL_NAME = 'model2' \n",
    "PRETRAINED_MODEL_NAME = 'faster_rcnn_inception_resnet_v2_1024x1024_coco17_tpu-8'\n",
    "PRETRAINED_MODEL_URL = 'http://download.tensorflow.org/models/object_detection/tf2/20200711/faster_rcnn_inception_resnet_v2_1024x1024_coco17_tpu-8.tar.gz'\n",
    "TF_RECORD_SCRIPT_NAME = 'generate_tfrecord.py'\n",
    "LABEL_MAP_NAME = 'label_map.pbtxt'"
   ],
   "outputs": [],
   "metadata": {
    "id": "42hJEdo_pfDB"
   }
  },
  {
   "cell_type": "code",
   "execution_count": 12,
   "source": [
    "paths = {\n",
    "    'WORKSPACE_PATH': os.path.join('tensorflow', 'workspace'),\n",
    "    'SCRIPTS_PATH': os.path.join('tensorflow','scripts'),\n",
    "    'APIMODEL_PATH': os.path.join('tensorflow','models'),\n",
    "    'ANNOTATION_PATH': os.path.join('tensorflow', 'workspace','annotations'),\n",
    "    'IMAGE_PATH': os.path.join('tensorflow', 'workspace','images'),\n",
    "    'MODEL_PATH': os.path.join('tensorflow', 'workspace','models'),\n",
    "    'PRETRAINED_MODEL_PATH': os.path.join('tensorflow', 'workspace','pre-trained-models'),\n",
    "    'CHECKPOINT_PATH': os.path.join('tensorflow', 'workspace','models',CUSTOM_MODEL_NAME), \n",
    "    'OUTPUT_PATH': os.path.join('tensorflow', 'workspace','models',CUSTOM_MODEL_NAME, 'export'), \n",
    "    'TFJS_PATH':os.path.join('tensorflow', 'workspace','models',CUSTOM_MODEL_NAME, 'tfjsexport'), \n",
    "    'TFLITE_PATH':os.path.join('tensorflow', 'workspace','models',CUSTOM_MODEL_NAME, 'tfliteexport'), \n",
    "    'PROTOC_PATH':os.path.join('tensorflow','protoc')\n",
    " }"
   ],
   "outputs": [],
   "metadata": {
    "id": "hbPhYVy_pfDB"
   }
  },
  {
   "cell_type": "code",
   "execution_count": 13,
   "source": [
    "files = {\n",
    "    'PIPELINE_CONFIG':os.path.join('tensorflow', 'workspace','models', CUSTOM_MODEL_NAME, 'pipeline.config'),\n",
    "    'TF_RECORD_SCRIPT': os.path.join(paths['SCRIPTS_PATH'], TF_RECORD_SCRIPT_NAME), \n",
    "    'LABELMAP': os.path.join(paths['ANNOTATION_PATH'], LABEL_MAP_NAME)\n",
    "}"
   ],
   "outputs": [],
   "metadata": {
    "id": "LwhWZMI0pfDC"
   }
  },
  {
   "cell_type": "code",
   "execution_count": 14,
   "source": [
    "import object_detection\n",
    "import tensorflow as tf\n",
    "from object_detection.utils import config_util\n",
    "from object_detection.protos import pipeline_pb2\n",
    "#from google.protobuf import text_format\n",
    "#import gin"
   ],
   "outputs": [],
   "metadata": {
    "id": "Z9hRrO_ppfDF"
   }
  },
  {
   "cell_type": "code",
   "execution_count": 15,
   "source": [
    "config = config_util.get_configs_from_pipeline_file(files['PIPELINE_CONFIG'])\n",
    "config"
   ],
   "outputs": [
    {
     "output_type": "execute_result",
     "data": {
      "text/plain": [
       "{'model': faster_rcnn {\n",
       "   num_classes: 5\n",
       "   image_resizer {\n",
       "     keep_aspect_ratio_resizer {\n",
       "       min_dimension: 960\n",
       "       max_dimension: 1600\n",
       "       pad_to_max_dimension: true\n",
       "     }\n",
       "   }\n",
       "   feature_extractor {\n",
       "     type: \"faster_rcnn_inception_resnet_v2_keras\"\n",
       "   }\n",
       "   first_stage_anchor_generator {\n",
       "     grid_anchor_generator {\n",
       "       height_stride: 16\n",
       "       width_stride: 16\n",
       "       scales: 0.25\n",
       "       scales: 0.5\n",
       "       scales: 1.0\n",
       "       scales: 2.0\n",
       "       aspect_ratios: 0.5\n",
       "       aspect_ratios: 1.0\n",
       "       aspect_ratios: 2.0\n",
       "     }\n",
       "   }\n",
       "   first_stage_box_predictor_conv_hyperparams {\n",
       "     op: CONV\n",
       "     regularizer {\n",
       "       l2_regularizer {\n",
       "         weight: 0.0\n",
       "       }\n",
       "     }\n",
       "     initializer {\n",
       "       truncated_normal_initializer {\n",
       "         stddev: 0.009999999776482582\n",
       "       }\n",
       "     }\n",
       "   }\n",
       "   first_stage_nms_score_threshold: 0.0\n",
       "   first_stage_nms_iou_threshold: 0.699999988079071\n",
       "   first_stage_max_proposals: 300\n",
       "   first_stage_localization_loss_weight: 2.0\n",
       "   first_stage_objectness_loss_weight: 1.0\n",
       "   initial_crop_size: 17\n",
       "   maxpool_kernel_size: 1\n",
       "   maxpool_stride: 1\n",
       "   second_stage_box_predictor {\n",
       "     mask_rcnn_box_predictor {\n",
       "       fc_hyperparams {\n",
       "         op: FC\n",
       "         regularizer {\n",
       "           l2_regularizer {\n",
       "             weight: 0.0\n",
       "           }\n",
       "         }\n",
       "         initializer {\n",
       "           variance_scaling_initializer {\n",
       "             factor: 1.0\n",
       "             uniform: true\n",
       "             mode: FAN_AVG\n",
       "           }\n",
       "         }\n",
       "       }\n",
       "       use_dropout: false\n",
       "       dropout_keep_probability: 1.0\n",
       "     }\n",
       "   }\n",
       "   second_stage_post_processing {\n",
       "     batch_non_max_suppression {\n",
       "       score_threshold: 0.0\n",
       "       iou_threshold: 0.6000000238418579\n",
       "       max_detections_per_class: 100\n",
       "       max_total_detections: 100\n",
       "     }\n",
       "     score_converter: SOFTMAX\n",
       "   }\n",
       "   second_stage_localization_loss_weight: 2.0\n",
       "   second_stage_classification_loss_weight: 1.0\n",
       " },\n",
       " 'train_config': batch_size: 2\n",
       " data_augmentation_options {\n",
       "   random_horizontal_flip {\n",
       "   }\n",
       " }\n",
       " data_augmentation_options {\n",
       "   random_adjust_hue {\n",
       "   }\n",
       " }\n",
       " data_augmentation_options {\n",
       "   random_adjust_contrast {\n",
       "   }\n",
       " }\n",
       " data_augmentation_options {\n",
       "   random_adjust_saturation {\n",
       "   }\n",
       " }\n",
       " data_augmentation_options {\n",
       "   random_square_crop_by_scale {\n",
       "     scale_min: 0.6000000238418579\n",
       "     scale_max: 1.2999999523162842\n",
       "   }\n",
       " }\n",
       " optimizer {\n",
       "   momentum_optimizer {\n",
       "     learning_rate {\n",
       "       cosine_decay_learning_rate {\n",
       "         learning_rate_base: 0.00800000037997961\n",
       "         total_steps: 200000\n",
       "         warmup_learning_rate: 0.0\n",
       "         warmup_steps: 5000\n",
       "       }\n",
       "     }\n",
       "     momentum_optimizer_value: 0.8999999761581421\n",
       "   }\n",
       "   use_moving_average: false\n",
       " }\n",
       " gradient_clipping_by_norm: 10.0\n",
       " fine_tune_checkpoint: \"/home/user/gp_c/tensorflow/workspace/pre-trained-models/faster_rcnn_inception_resnet_v2_1024x1024_coco17_tpu-8/checkpoint/ckpt-0\"\n",
       " num_steps: 200000\n",
       " fine_tune_checkpoint_type: \"detection\"\n",
       " fine_tune_checkpoint_version: V2,\n",
       " 'train_input_config': label_map_path: \"/home/user/gp_c/tensorflow/workspace/annotations/label_map.pbtxt\"\n",
       " tf_record_input_reader {\n",
       "   input_path: \"/home/user/gp_c/tensorflow/workspace/annotations/train.record\"\n",
       " },\n",
       " 'eval_config': metrics_set: \"coco_detection_metrics\"\n",
       " use_moving_averages: false\n",
       " batch_size: 2,\n",
       " 'eval_input_configs': [label_map_path: \"/home/user/gp_c/tensorflow/workspace/annotations/label_map.pbtxt\"\n",
       " shuffle: false\n",
       " num_epochs: 1\n",
       " tf_record_input_reader {\n",
       "   input_path: \"/home/user/gp_c/tensorflow/workspace/annotations/test.record\"\n",
       " }\n",
       " ],\n",
       " 'eval_input_config': label_map_path: \"/home/user/gp_c/tensorflow/workspace/annotations/label_map.pbtxt\"\n",
       " shuffle: false\n",
       " num_epochs: 1\n",
       " tf_record_input_reader {\n",
       "   input_path: \"/home/user/gp_c/tensorflow/workspace/annotations/test.record\"\n",
       " }}"
      ]
     },
     "metadata": {},
     "execution_count": 15
    }
   ],
   "metadata": {
    "id": "c2A0mn4ipfDF"
   }
  },
  {
   "cell_type": "markdown",
   "source": [
    "# 8. Load Train Model From Checkpoint"
   ],
   "metadata": {
    "id": "orvRk02UpfDI"
   }
  },
  {
   "cell_type": "code",
   "execution_count": 25,
   "source": [
    "import os\n",
    "import tensorflow as tf\n",
    "from object_detection.utils import label_map_util\n",
    "from object_detection.utils import visualization_utils as viz_utils\n",
    "from object_detection.builders import model_builder\n",
    "from object_detection.utils import config_util"
   ],
   "outputs": [],
   "metadata": {
    "id": "8TYk4_oIpfDI"
   }
  },
  {
   "cell_type": "code",
   "execution_count": 26,
   "source": [
    "# Load pipeline config and build a detection model\n",
    "configs = config_util.get_configs_from_pipeline_file(files['PIPELINE_CONFIG'])\n",
    "detection_model = model_builder.build(model_config=configs['model'], is_training=False)\n",
    "\n",
    "# Restore checkpoint\n",
    "ckpt = tf.compat.v2.train.Checkpoint(model=detection_model)\n",
    "ckpt.restore(os.path.join(paths['CHECKPOINT_PATH'], 'ckpt-11')).expect_partial()\n",
    "\n",
    "@tf.function\n",
    "def detect_fn(image):\n",
    "    image, shapes = detection_model.preprocess(image)\n",
    "    prediction_dict = detection_model.predict(image, shapes)\n",
    "    detections = detection_model.postprocess(prediction_dict, shapes)\n",
    "    return detections"
   ],
   "outputs": [],
   "metadata": {
    "id": "tDnQg-cYpfDI"
   }
  },
  {
   "cell_type": "markdown",
   "source": [
    "# 9. Detect from an Image"
   ],
   "metadata": {
    "id": "0EmsmbBZpfDI"
   }
  },
  {
   "cell_type": "code",
   "execution_count": 27,
   "source": [
    "import cv2 \n",
    "import numpy as np\n",
    "from matplotlib import pyplot as plt"
   ],
   "outputs": [],
   "metadata": {
    "id": "Y_MKiuZ4pfDI"
   }
  },
  {
   "cell_type": "code",
   "execution_count": 28,
   "source": [
    "category_index = label_map_util.create_category_index_from_labelmap(files['LABELMAP'])"
   ],
   "outputs": [],
   "metadata": {
    "id": "cBDbIhNapfDI"
   }
  },
  {
   "cell_type": "code",
   "execution_count": 33,
   "source": [
    "IMAGE_PATH = os.path.join(paths['IMAGE_PATH'], 'test', 'output1.jpg')"
   ],
   "outputs": [],
   "metadata": {
    "id": "Lx3crOhOzITB"
   }
  },
  {
   "cell_type": "code",
   "execution_count": 34,
   "source": [
    "img = cv2.imread(IMAGE_PATH)\n",
    "image_np = np.array(img)\n",
    "\n",
    "input_tensor = tf.convert_to_tensor(np.expand_dims(image_np, 0), dtype=tf.float32)\n",
    "detections = detect_fn(input_tensor)\n",
    "\n",
    "num_detections = int(detections.pop('num_detections'))\n",
    "detections = {key: value[0, :num_detections].numpy()\n",
    "              for key, value in detections.items()}\n",
    "detections['num_detections'] = num_detections\n",
    "\n",
    "# detection_classes should be ints.\n",
    "detections['detection_classes'] = detections['detection_classes'].astype(np.int64)\n",
    "\n",
    "label_id_offset = 1\n",
    "image_np_with_detections = image_np.copy()\n",
    "\n",
    "viz_utils.visualize_boxes_and_labels_on_image_array(\n",
    "            image_np_with_detections,\n",
    "            detections['detection_boxes'],\n",
    "            detections['detection_classes']+label_id_offset,\n",
    "            detections['detection_scores'],\n",
    "            category_index,\n",
    "            use_normalized_coordinates=True,\n",
    "            max_boxes_to_draw=5,\n",
    "            min_score_thresh=.3,\n",
    "            agnostic_mode=False)\n",
    "\n",
    "cv2.imwrite('result1.jpg',image_np_with_detections)\n",
    "#plt.imshow(cv2.cvtColor(image_np_with_detections, cv2.COLOR_BGR2RGB))\n",
    "#plt.show()\n",
    "#cv2.imshow(\"\",image_np_with_detections)\n",
    "#cv2.waitKey()"
   ],
   "outputs": [
    {
     "output_type": "execute_result",
     "data": {
      "text/plain": [
       "True"
      ]
     },
     "metadata": {},
     "execution_count": 34
    }
   ],
   "metadata": {
    "colab": {
     "base_uri": "https://localhost:8080/",
     "height": 269
    },
    "id": "Tpzn1SMry1yK",
    "outputId": "c392a2c5-10fe-4fc4-9998-a1d4c7db2bd3"
   }
  },
  {
   "cell_type": "markdown",
   "source": [
    "# 10. Real Time Detections from your Webcam"
   ],
   "metadata": {
    "id": "IsNAaYAo0WVL"
   }
  },
  {
   "cell_type": "code",
   "execution_count": null,
   "source": [
    "!pip uninstall opencv-python-headless -y"
   ],
   "outputs": [],
   "metadata": {}
  },
  {
   "cell_type": "code",
   "execution_count": null,
   "source": [
    "cap = cv2.VideoCapture(0)\n",
    "width = int(cap.get(cv2.CAP_PROP_FRAME_WIDTH))\n",
    "height = int(cap.get(cv2.CAP_PROP_FRAME_HEIGHT))\n",
    "\n",
    "while cap.isOpened(): \n",
    "    ret, frame = cap.read()\n",
    "    image_np = np.array(frame)\n",
    "    \n",
    "    input_tensor = tf.convert_to_tensor(np.expand_dims(image_np, 0), dtype=tf.float32)\n",
    "    detections = detect_fn(input_tensor)\n",
    "    \n",
    "    num_detections = int(detections.pop('num_detections'))\n",
    "    detections = {key: value[0, :num_detections].numpy()\n",
    "                  for key, value in detections.items()}\n",
    "    detections['num_detections'] = num_detections\n",
    "\n",
    "    # detection_classes should be ints.\n",
    "    detections['detection_classes'] = detections['detection_classes'].astype(np.int64)\n",
    "\n",
    "    label_id_offset = 1\n",
    "    image_np_with_detections = image_np.copy()\n",
    "\n",
    "    viz_utils.visualize_boxes_and_labels_on_image_array(\n",
    "                image_np_with_detections,\n",
    "                detections['detection_boxes'],\n",
    "                detections['detection_classes']+label_id_offset,\n",
    "                detections['detection_scores'],\n",
    "                category_index,\n",
    "                use_normalized_coordinates=True,\n",
    "                max_boxes_to_draw=5,\n",
    "                min_score_thresh=.8,\n",
    "                agnostic_mode=False)\n",
    "\n",
    "    cv2.imshow('object detection',  cv2.resize(image_np_with_detections, (800, 600)))\n",
    "    \n",
    "    if cv2.waitKey(10) & 0xFF == ord('q'):\n",
    "        cap.release()\n",
    "        cv2.destroyAllWindows()\n",
    "        break"
   ],
   "outputs": [],
   "metadata": {
    "id": "o_grs6OGpfDJ"
   }
  },
  {
   "cell_type": "markdown",
   "source": [
    "# 10. Freezing the Graph"
   ],
   "metadata": {
    "id": "rzlM4jt0pfDJ"
   }
  },
  {
   "cell_type": "code",
   "execution_count": null,
   "source": [
    "FREEZE_SCRIPT = os.path.join(paths['APIMODEL_PATH'], 'research', 'object_detection', 'exporter_main_v2.py ')"
   ],
   "outputs": [],
   "metadata": {
    "id": "n4olHB2npfDJ"
   }
  },
  {
   "cell_type": "code",
   "execution_count": null,
   "source": [
    "command = \"python {} --input_type=image_tensor --pipeline_config_path={} --trained_checkpoint_dir={} --output_directory={}\".format(FREEZE_SCRIPT ,files['PIPELINE_CONFIG'], paths['CHECKPOINT_PATH'], paths['OUTPUT_PATH'])"
   ],
   "outputs": [],
   "metadata": {
    "id": "0AjO93QDpfDJ"
   }
  },
  {
   "cell_type": "code",
   "execution_count": null,
   "source": [
    "print(command)"
   ],
   "outputs": [],
   "metadata": {
    "colab": {
     "base_uri": "https://localhost:8080/"
    },
    "id": "F6Lsp3tCpfDJ",
    "outputId": "c3828529-bf06-4df5-d7f3-145890ec3edd"
   }
  },
  {
   "cell_type": "code",
   "execution_count": null,
   "source": [
    "!{command}"
   ],
   "outputs": [],
   "metadata": {
    "colab": {
     "base_uri": "https://localhost:8080/"
    },
    "id": "1Sw1ULgHpfDJ",
    "outputId": "6fd441e1-9fc9-4889-d072-3395c21e40b6"
   }
  },
  {
   "cell_type": "markdown",
   "source": [
    "# 11. Conversion to TFJS"
   ],
   "metadata": {
    "id": "wTPmdqaXpfDK"
   }
  },
  {
   "cell_type": "code",
   "execution_count": null,
   "source": [
    "!pip install tensorflowjs"
   ],
   "outputs": [],
   "metadata": {
    "colab": {
     "base_uri": "https://localhost:8080/"
    },
    "id": "gZ6UzY_fpfDK",
    "outputId": "0c84722e-1c2b-4002-d857-80827ade828a",
    "scrolled": true
   }
  },
  {
   "cell_type": "code",
   "execution_count": null,
   "source": [
    "command = \"tensorflowjs_converter --input_format=tf_saved_model --output_node_names='detection_boxes,detection_classes,detection_features,detection_multiclass_scores,detection_scores,num_detections,raw_detection_boxes,raw_detection_scores' --output_format=tfjs_graph_model --signature_name=serving_default {} {}\".format(os.path.join(paths['OUTPUT_PATH'], 'saved_model'), paths['TFJS_PATH'])"
   ],
   "outputs": [],
   "metadata": {
    "id": "0oxbVynHpfDK"
   }
  },
  {
   "cell_type": "code",
   "execution_count": null,
   "source": [
    "print(command)"
   ],
   "outputs": [],
   "metadata": {
    "colab": {
     "base_uri": "https://localhost:8080/"
    },
    "id": "DB2AGNmJpfDK",
    "outputId": "fbc9f747-f511-47e8-df8f-5ea65cef0374"
   }
  },
  {
   "cell_type": "code",
   "execution_count": null,
   "source": [
    "!{command}"
   ],
   "outputs": [],
   "metadata": {
    "colab": {
     "base_uri": "https://localhost:8080/"
    },
    "id": "K7rfT4-hpfDK",
    "outputId": "532707fd-6feb-4bc6-84a3-325b5d16303c"
   }
  },
  {
   "cell_type": "code",
   "execution_count": null,
   "source": [
    "# Test Code: https://github.com/nicknochnack/RealTimeSignLanguageDetectionwithTFJS"
   ],
   "outputs": [],
   "metadata": {
    "id": "o8_hm-itpfDK"
   }
  },
  {
   "cell_type": "markdown",
   "source": [
    "# 12. Conversion to TFLite"
   ],
   "metadata": {
    "id": "VtUw73FHpfDK"
   }
  },
  {
   "cell_type": "code",
   "execution_count": null,
   "source": [
    "TFLITE_SCRIPT = os.path.join(paths['APIMODEL_PATH'], 'research', 'object_detection', 'export_tflite_graph_tf2.py ')"
   ],
   "outputs": [],
   "metadata": {
    "id": "XviMtewLpfDK"
   }
  },
  {
   "cell_type": "code",
   "execution_count": null,
   "source": [
    "command = \"python {} --pipeline_config_path={} --trained_checkpoint_dir={} --output_directory={}\".format(TFLITE_SCRIPT ,files['PIPELINE_CONFIG'], paths['CHECKPOINT_PATH'], paths['TFLITE_PATH'])"
   ],
   "outputs": [],
   "metadata": {
    "id": "us86cjC4pfDL"
   }
  },
  {
   "cell_type": "code",
   "execution_count": null,
   "source": [
    "print(command)"
   ],
   "outputs": [],
   "metadata": {
    "colab": {
     "base_uri": "https://localhost:8080/"
    },
    "id": "n1r5YO3rpfDL",
    "outputId": "5fcdf7a4-eee2-4365-f1ca-1751968379ea"
   }
  },
  {
   "cell_type": "code",
   "execution_count": null,
   "source": [
    "!{command}"
   ],
   "outputs": [],
   "metadata": {
    "colab": {
     "base_uri": "https://localhost:8080/"
    },
    "id": "I-xWpHN8pfDL",
    "outputId": "7f6bacd8-d077-43b5-c131-5b081fba24a4"
   }
  },
  {
   "cell_type": "code",
   "execution_count": null,
   "source": [
    "FROZEN_TFLITE_PATH = os.path.join(paths['TFLITE_PATH'], 'saved_model')\n",
    "TFLITE_MODEL = os.path.join(paths['TFLITE_PATH'], 'saved_model', 'detect.tflite')"
   ],
   "outputs": [],
   "metadata": {
    "id": "iJfYMbN6pfDL"
   }
  },
  {
   "cell_type": "code",
   "execution_count": null,
   "source": [
    "command = \"tflite_convert \\\n",
    "--saved_model_dir={} \\\n",
    "--output_file={} \\\n",
    "--input_shapes=1,300,300,3 \\\n",
    "--input_arrays=normalized_input_image_tensor \\\n",
    "--output_arrays='TFLite_Detection_PostProcess','TFLite_Detection_PostProcess:1','TFLite_Detection_PostProcess:2','TFLite_Detection_PostProcess:3' \\\n",
    "--inference_type=FLOAT \\\n",
    "--allow_custom_ops\".format(FROZEN_TFLITE_PATH, TFLITE_MODEL, )"
   ],
   "outputs": [],
   "metadata": {}
  },
  {
   "cell_type": "code",
   "execution_count": null,
   "source": [
    "print(command)"
   ],
   "outputs": [],
   "metadata": {
    "colab": {
     "base_uri": "https://localhost:8080/"
    },
    "id": "E8GwUeoFpfDL",
    "outputId": "fac43ea4-cc85-471b-a362-e994b06fd583"
   }
  },
  {
   "cell_type": "code",
   "execution_count": null,
   "source": [
    "!{command}"
   ],
   "outputs": [],
   "metadata": {
    "colab": {
     "base_uri": "https://localhost:8080/"
    },
    "id": "Nbd7gqHMpfDL",
    "outputId": "7c8fe6d5-2415-4641-8548-39d425c202f7"
   }
  },
  {
   "cell_type": "markdown",
   "source": [
    "# 13. Zip and Export Models "
   ],
   "metadata": {
    "id": "5NQqZRdA21Uc"
   }
  },
  {
   "cell_type": "code",
   "execution_count": null,
   "source": [
    "!tar -czf models.tar.gz {paths['CHECKPOINT_PATH']}"
   ],
   "outputs": [],
   "metadata": {
    "id": "tTVTGCQp2ZJJ"
   }
  },
  {
   "cell_type": "code",
   "execution_count": null,
   "source": [
    "from google.colab import drive\n",
    "drive.mount('/content/drive')"
   ],
   "outputs": [],
   "metadata": {
    "colab": {
     "base_uri": "https://localhost:8080/"
    },
    "id": "whShhB0x3PYJ",
    "outputId": "b773201d-35c9-46a8-b893-4a76bd4d5d97"
   }
  }
 ],
 "metadata": {
  "accelerator": "GPU",
  "colab": {
   "name": "3. Training and Detection.ipynb",
   "provenance": []
  },
  "kernelspec": {
   "name": "python3",
   "display_name": "Python 3.8.10 64-bit ('tensorflow': venv)"
  },
  "language_info": {
   "codemirror_mode": {
    "name": "ipython",
    "version": 3
   },
   "file_extension": ".py",
   "mimetype": "text/x-python",
   "name": "python",
   "nbconvert_exporter": "python",
   "pygments_lexer": "ipython3",
   "version": "3.8.10"
  },
  "interpreter": {
   "hash": "5c62bd78bb557adc775a776e42d8ffd77858fdcc0e2ee124184787f5ac4372d7"
  }
 },
 "nbformat": 4,
 "nbformat_minor": 1
}